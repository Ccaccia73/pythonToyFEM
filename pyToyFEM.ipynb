{
 "cells": [
  {
   "cell_type": "code",
   "execution_count": 214,
   "metadata": {
    "collapsed": true
   },
   "outputs": [],
   "source": [
    "from __future__ import division\n",
    "import numpy as np\n",
    "import matplotlib.pyplot as plt\n",
    "import json\n",
    "#from scipy import stats\n",
    "#import scipy.interpolate as interp\n",
    "from pprint import pprint\n",
    "%matplotlib inline\n",
    "from matplotlib import rcParams\n",
    "rcParams['font.family'] = 'serif'\n",
    "rcParams['font.size'] = 14"
   ]
  },
  {
   "cell_type": "code",
   "execution_count": 215,
   "metadata": {
    "collapsed": true
   },
   "outputs": [],
   "source": [
    "import FEMmodule as FEM"
   ]
  },
  {
   "cell_type": "markdown",
   "metadata": {},
   "source": [
    "# Toy FEM - python version"
   ]
  },
  {
   "cell_type": "markdown",
   "metadata": {},
   "source": [
    "This code is the Python replica of the matlab code used in *LAB01* of the course **Nonlinear Analysis of Aerospace Structures** held by Marco Morandini, Riccardo Vescovini at *Politecnico di Milano*"
   ]
  },
  {
   "cell_type": "markdown",
   "metadata": {},
   "source": [
    "## Build matrices"
   ]
  },
  {
   "cell_type": "markdown",
   "metadata": {},
   "source": [
    "- *nodes* matrix: containing nodes coordinates\n",
    "- *elements* matrix: connectivity matrix associating nodes to elements\n",
    "- *constrained elements* vector: list of constrained (fixed) nodes\n",
    "\n",
    "Parameters are **nx** and **ny**: number of elements in *x* and *y* directions.\n",
    "\n",
    "Default plate size is l=10, w=2. It can be changes passing additional parameters to **Nodes**"
   ]
  },
  {
   "cell_type": "code",
   "execution_count": 216,
   "metadata": {
    "collapsed": true
   },
   "outputs": [],
   "source": [
    "nx = 2\n",
    "ny = 2\n",
    "l = 10.\n",
    "w = 2."
   ]
  },
  {
   "cell_type": "code",
   "execution_count": 217,
   "metadata": {
    "collapsed": false
   },
   "outputs": [],
   "source": [
    "nodes, elements, constr_nodes = FEM.Nodes(nx,ny)\n",
    "#nodes, elements, constr_nodes = FEM.Nodes(nx,ny, l, w)"
   ]
  },
  {
   "cell_type": "markdown",
   "metadata": {},
   "source": [
    "Create a Gaussian integrator for **2D** 2$\\times$2 matrix"
   ]
  },
  {
   "cell_type": "code",
   "execution_count": 218,
   "metadata": {
    "collapsed": true
   },
   "outputs": [],
   "source": [
    "GI = FEM.GaussIntegr2D2x2()"
   ]
  },
  {
   "cell_type": "markdown",
   "metadata": {},
   "source": [
    "Create a *plane stress* **Elastic Tensor** with parameters **E** and **$\\nu$**"
   ]
  },
  {
   "cell_type": "code",
   "execution_count": 219,
   "metadata": {
    "collapsed": true
   },
   "outputs": [],
   "source": [
    "E = FEM.PlaneStressElasticTensor(1.e4, 0.3)"
   ]
  },
  {
   "cell_type": "markdown",
   "metadata": {},
   "source": [
    "Create a set of *bilinear weights*, used to interppolate a **2D** function on a $(x,y)$ grid"
   ]
  },
  {
   "cell_type": "code",
   "execution_count": 220,
   "metadata": {
    "collapsed": true
   },
   "outputs": [],
   "source": [
    "W = FEM.BilinearWeights()"
   ]
  },
  {
   "cell_type": "markdown",
   "metadata": {},
   "source": [
    "Build vectors of *constrained* and *free* **DOFs**"
   ]
  },
  {
   "cell_type": "code",
   "execution_count": 221,
   "metadata": {
    "collapsed": false
   },
   "outputs": [],
   "source": [
    "constr_dofs = np.append(constr_nodes, constr_nodes + nodes.shape[0])\n",
    "free_dofs = np.array([i for i in range(0,2*nodes.shape[0]) if i not in constr_dofs])"
   ]
  },
  {
   "cell_type": "markdown",
   "metadata": {},
   "source": [
    "Build matrices"
   ]
  },
  {
   "cell_type": "code",
   "execution_count": 222,
   "metadata": {
    "collapsed": true
   },
   "outputs": [],
   "source": [
    "ne = nodes.shape[0]*nodes.shape[1]\n",
    "GlobalStiff = np.zeros((ne,ne))\n",
    "GlobalRes = np.zeros(ne)\n",
    "GlobalDispl = np.zeros_like(GlobalRes)"
   ]
  },
  {
   "cell_type": "markdown",
   "metadata": {},
   "source": [
    "**Force** vector: $[F_x , F_y]$"
   ]
  },
  {
   "cell_type": "code",
   "execution_count": 223,
   "metadata": {
    "collapsed": true
   },
   "outputs": [],
   "source": [
    "force = np.array([0. ,1.])"
   ]
  },
  {
   "cell_type": "markdown",
   "metadata": {},
   "source": [
    "Compute *global stiffness matrix* and *global resultants*:"
   ]
  },
  {
   "cell_type": "code",
   "execution_count": 224,
   "metadata": {
    "collapsed": false,
    "scrolled": true
   },
   "outputs": [],
   "source": [
    "for e in range(elements.shape[0]):\n",
    "    act_e = elements[e,:].astype(int)\n",
    "    #print \"act element: \",act_e\n",
    "    Stiff = GI.Integrate(lambda x : FEM.ElementLocalStiffness(nodes[act_e,:], E, W, x) )\n",
    "    #print \"stiffness: \",Stiff\n",
    "    Res = GI.Integrate(lambda x : FEM.ElementVolumeForce(nodes[act_e,:], force, W, x) )\n",
    "    conn = np.concatenate((act_e, act_e + nodes.shape[0]))\n",
    "    indxs = np.ix_(conn,conn)\n",
    "    GlobalStiff[indxs] = GlobalStiff[indxs] + Stiff\n",
    "    GlobalRes[conn] = GlobalRes[conn] + Res"
   ]
  },
  {
   "cell_type": "markdown",
   "metadata": {},
   "source": [
    "Remove *dofs* that are constrained"
   ]
  },
  {
   "cell_type": "code",
   "execution_count": 225,
   "metadata": {
    "collapsed": false
   },
   "outputs": [],
   "source": [
    "mask = np.ones(GlobalStiff.shape[0], dtype=bool)\n",
    "mask[constr_dofs] = False\n",
    "\n",
    "#pprint(GlobalStiff)\n",
    "#print GlobalRes\n",
    "\n",
    "indxs = np.ix_(mask,mask)\n",
    "GlobalStiff = GlobalStiff[indxs]\n",
    "GlobalRes = GlobalRes[mask]"
   ]
  },
  {
   "cell_type": "markdown",
   "metadata": {},
   "source": [
    "compute node displacements"
   ]
  },
  {
   "cell_type": "code",
   "execution_count": 226,
   "metadata": {
    "collapsed": false
   },
   "outputs": [],
   "source": [
    "displ = np.linalg.solve(GlobalStiff, GlobalRes)"
   ]
  },
  {
   "cell_type": "code",
   "execution_count": 227,
   "metadata": {
    "collapsed": false
   },
   "outputs": [],
   "source": [
    "GlobalDispl[free_dofs] = displ"
   ]
  },
  {
   "cell_type": "code",
   "execution_count": 228,
   "metadata": {
    "collapsed": false
   },
   "outputs": [
    {
     "name": "stdout",
     "output_type": "stream",
     "text": [
      "[[  0.00000000e+00   0.00000000e+00]\n",
      " [  1.35169416e-02   4.37330211e-02]\n",
      " [  1.63055457e-02   1.21316761e-01]\n",
      " [  0.00000000e+00   0.00000000e+00]\n",
      " [  3.39155390e-17   4.33516867e-02]\n",
      " [  4.35223623e-17   1.21380383e-01]\n",
      " [  0.00000000e+00   0.00000000e+00]\n",
      " [ -1.35169416e-02   4.37330211e-02]\n",
      " [ -1.63055457e-02   1.21316761e-01]]\n"
     ]
    }
   ],
   "source": [
    "GlobalDispl = GlobalDispl.reshape(nodes.shape,order='F')"
   ]
  },
  {
   "cell_type": "code",
   "execution_count": 229,
   "metadata": {
    "collapsed": false
   },
   "outputs": [],
   "source": [
    "def plotMesh(nodes, elements, style=None):\n",
    "    c = np.array([[0,1],[1,2],[2,3],[3,0]])\n",
    "    for e in range(elements.shape[0]):\n",
    "        el = elements[e,:].astype(int)\n",
    "        for l in range(4):\n",
    "            plt.plot(nodes[el[c[l,:]],0],nodes[el[c[l,:]],1],style)"
   ]
  },
  {
   "cell_type": "code",
   "execution_count": 230,
   "metadata": {
    "collapsed": false
   },
   "outputs": [
    {
     "data": {
      "image/png": "[encoded data removed]",
      "text/plain": [
       "<matplotlib.figure.Figure at 0x7f21842fa090>"
      ]
     },
     "metadata": {},
     "output_type": "display_data"
    }
   ],
   "source": [
    "plt.figure(figsize=(16,10), dpi=300)\n",
    "plotMesh(nodes,elements,'b-.')\n",
    "plotMesh(nodes+GlobalDispl,elements,'r')"
   ]
  },
  {
   "cell_type": "code",
   "execution_count": null,
   "metadata": {
    "collapsed": false
   },
   "outputs": [],
   "source": []
  },
  {
   "cell_type": "code",
   "execution_count": null,
   "metadata": {
    "collapsed": true
   },
   "outputs": [],
   "source": []
  }
 ],
 "metadata": {
  "kernelspec": {
   "display_name": "Python 2",
   "language": "python",
   "name": "python2"
  },
  "language_info": {
   "codemirror_mode": {
    "name": "ipython",
    "version": 2
   },
   "file_extension": ".py",
   "mimetype": "text/x-python",
   "name": "python",
   "nbconvert_exporter": "python",
   "pygments_lexer": "ipython2",
   "version": "2.7.9"
  }
 },
 "nbformat": 4,
 "nbformat_minor": 0
}
