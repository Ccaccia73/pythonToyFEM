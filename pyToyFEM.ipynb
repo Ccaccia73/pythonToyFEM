{
 "cells": [
  {
   "cell_type": "code",
   "execution_count": 1,
   "metadata": {
    "collapsed": true
   },
   "outputs": [],
   "source": [
    "from __future__ import division\n",
    "import numpy as np\n",
    "import matplotlib.pyplot as plt\n",
    "import json\n",
    "#from scipy import stats\n",
    "#import scipy.interpolate as interp\n",
    "from pprint import pprint\n",
    "%matplotlib inline\n",
    "from matplotlib import rcParams\n",
    "rcParams['font.family'] = 'serif'\n",
    "rcParams['font.size'] = 14"
   ]
  },
  {
   "cell_type": "code",
   "execution_count": 2,
   "metadata": {
    "collapsed": true
   },
   "outputs": [],
   "source": [
    "import FEMmodule as FEM"
   ]
  },
  {
   "cell_type": "markdown",
   "metadata": {},
   "source": [
    "# Toy FEM - python version"
   ]
  },
  {
   "cell_type": "markdown",
   "metadata": {},
   "source": [
    "This code is the Python replica of the matlab code used in *LAB01* of the course **Nonlinear Analysis of Aerospace Structures** held by Marco Morandini, Riccardo Vescovini at *Politecnico di Milano*"
   ]
  },
  {
   "cell_type": "markdown",
   "metadata": {},
   "source": [
    "## Build matrices"
   ]
  },
  {
   "cell_type": "markdown",
   "metadata": {},
   "source": [
    "- *nodes* matrix: containing nodes coordinates\n",
    "- *elements* matrix: connectivity matrix associating nodes to elements\n",
    "- *constrained elements* vector: list of constrained (fixed) nodes\n",
    "\n",
    "Parameters are **nx** and **ny**: number of elements in *x* and *y* directions.\n",
    "\n",
    "Default plate size is l=10, w=2. It can be changes passing additional parameters to **Nodes**"
   ]
  },
  {
   "cell_type": "code",
   "execution_count": 3,
   "metadata": {
    "collapsed": true
   },
   "outputs": [],
   "source": [
    "nx = 2\n",
    "ny = 2\n",
    "l = 10.\n",
    "w = 2."
   ]
  },
  {
   "cell_type": "code",
   "execution_count": 4,
   "metadata": {
    "collapsed": false
   },
   "outputs": [],
   "source": [
    "nodes, elements, constr_nodes = FEM.Nodes(nx,ny)\n",
    "#nodes, elements, constr_nodes = FEM.Nodes(nx,ny, l, w)"
   ]
  },
  {
   "cell_type": "markdown",
   "metadata": {},
   "source": [
    "Create a Gaussian integrator for **2D** 2$\\times$2 matrix"
   ]
  },
  {
   "cell_type": "code",
   "execution_count": 5,
   "metadata": {
    "collapsed": true
   },
   "outputs": [],
   "source": [
    "GI = FEM.GaussIntegr2D2x2()"
   ]
  },
  {
   "cell_type": "markdown",
   "metadata": {},
   "source": [
    "Create a *plane stress* **Elastic Tensor** with parameters **E** and **$\\nu$**"
   ]
  },
  {
   "cell_type": "code",
   "execution_count": 6,
   "metadata": {
    "collapsed": true
   },
   "outputs": [],
   "source": [
    "E = FEM.PlaneStressElasticTensor(1.e4, 0.3)"
   ]
  },
  {
   "cell_type": "markdown",
   "metadata": {},
   "source": [
    "Create a set of *bilinear weights*, used to interppolate a **2D** function on a $(x,y)$ grid"
   ]
  },
  {
   "cell_type": "code",
   "execution_count": 7,
   "metadata": {
    "collapsed": true
   },
   "outputs": [],
   "source": [
    "W = FEM.BilinearWeights()"
   ]
  },
  {
   "cell_type": "markdown",
   "metadata": {},
   "source": [
    "Build vectors of *constrained* and *free* **DOFs**"
   ]
  },
  {
   "cell_type": "code",
   "execution_count": 8,
   "metadata": {
    "collapsed": false
   },
   "outputs": [],
   "source": [
    "constr_dofs = np.append(constr_nodes, constr_nodes + nodes.shape[0])\n",
    "free_dofs = np.array([i for i in range(0,2*nodes.shape[0]) if i not in constr_dofs])"
   ]
  },
  {
   "cell_type": "markdown",
   "metadata": {},
   "source": [
    "Build matrices"
   ]
  },
  {
   "cell_type": "code",
   "execution_count": 9,
   "metadata": {
    "collapsed": true
   },
   "outputs": [],
   "source": [
    "ne = nodes.shape[0]*nodes.shape[1]\n",
    "GlobalStiff = np.zeros((ne,ne))\n",
    "GlobalRes = np.zeros(ne)\n",
    "GlobalDispl = np.zeros_like(GlobalRes)"
   ]
  },
  {
   "cell_type": "markdown",
   "metadata": {},
   "source": [
    "**Force** vector: $[F_x , F_y]$"
   ]
  },
  {
   "cell_type": "code",
   "execution_count": 10,
   "metadata": {
    "collapsed": true
   },
   "outputs": [],
   "source": [
    "force = np.array([0. ,1.])"
   ]
  },
  {
   "cell_type": "markdown",
   "metadata": {},
   "source": [
    "Compute:"
   ]
  },
  {
   "cell_type": "code",
   "execution_count": 11,
   "metadata": {
    "collapsed": false
   },
   "outputs": [
    {
     "name": "stdout",
     "output_type": "stream",
     "text": [
      "0\n",
      "[[ 0.  0.]\n",
      " [ 5.  0.]\n",
      " [ 5.  1.]\n",
      " [ 0.  1.]]\n",
      "<FEMmodule.PlaneStressElasticTensor instance at 0x7f3b80886d40>\n",
      "<FEMmodule.BilinearWeights instance at 0x7f3b808861b8>\n",
      "2.79953837889e-12\n",
      "1\n",
      "[[  5.   0.]\n",
      " [ 10.   0.]\n",
      " [ 10.   1.]\n",
      " [  5.   1.]]\n",
      "<FEMmodule.PlaneStressElasticTensor instance at 0x7f3b80886d40>\n",
      "<FEMmodule.BilinearWeights instance at 0x7f3b808861b8>\n",
      "4.83169060317e-13\n",
      "2\n",
      "[[ 0.  1.]\n",
      " [ 5.  1.]\n",
      " [ 5.  2.]\n",
      " [ 0.  2.]]\n",
      "<FEMmodule.PlaneStressElasticTensor instance at 0x7f3b80886d40>\n",
      "<FEMmodule.BilinearWeights instance at 0x7f3b808861b8>\n",
      "-4.56168436358e-12\n",
      "3\n",
      "[[  5.   1.]\n",
      " [ 10.   1.]\n",
      " [ 10.   2.]\n",
      " [  5.   2.]]\n",
      "<FEMmodule.PlaneStressElasticTensor instance at 0x7f3b80886d40>\n",
      "<FEMmodule.BilinearWeights instance at 0x7f3b808861b8>\n",
      "-7.30437932361e-12\n"
     ]
    }
   ],
   "source": [
    "for e in range(elements.shape[0]):\n",
    "    Stiff = GI.Integrate(lambda x : FEM.ElementLocalStiffness(nodes[elements[e,:].astype(int),:], E, W, x) )\n"
   ]
  },
  {
   "cell_type": "code",
   "execution_count": null,
   "metadata": {
    "collapsed": false
   },
   "outputs": [],
   "source": []
  },
  {
   "cell_type": "code",
   "execution_count": null,
   "metadata": {
    "collapsed": true
   },
   "outputs": [],
   "source": []
  }
 ],
 "metadata": {
  "kernelspec": {
   "display_name": "Python 2",
   "language": "python",
   "name": "python2"
  },
  "language_info": {
   "codemirror_mode": {
    "name": "ipython",
    "version": 2
   },
   "file_extension": ".py",
   "mimetype": "text/x-python",
   "name": "python",
   "nbconvert_exporter": "python",
   "pygments_lexer": "ipython2",
   "version": "2.7.9"
  }
 },
 "nbformat": 4,
 "nbformat_minor": 0
}
