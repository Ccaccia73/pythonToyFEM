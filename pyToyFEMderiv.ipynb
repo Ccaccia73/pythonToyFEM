{
 "cells": [
  {
   "cell_type": "code",
   "execution_count": 2,
   "metadata": {
    "collapsed": false
   },
   "outputs": [],
   "source": [
    "import sympy\n",
    "sympy.init_printing()\n",
    "\n",
    "Q11, Q12, Q21, Q22 = sympy.symbols('Q_11 Q_12 Q_21 Q_22')\n",
    "x1, x2, y1, y2, x, y  = sympy.symbols('x_1 x_2 y_1 y_2 x y')\n",
    "l,w, csi, eta = sympy.symbols('l w xi eta')"
   ]
  },
  {
   "cell_type": "code",
   "execution_count": 3,
   "metadata": {
    "collapsed": false
   },
   "outputs": [
    {
     "data": {
      "image/png": "[encoded data removed]",
      "text/latex": [
       "$$\\frac{1}{- y_{1} + y_{2}} \\left(- y + y_{2}\\right) \\left(\\frac{Q_{11} \\left(- x + x_{2}\\right)}{- x_{1} + x_{2}} + \\frac{Q_{21} \\left(x - x_{1}\\right)}{- x_{1} + x_{2}}\\right) + \\frac{1}{- y_{1} + y_{2}} \\left(y - y_{1}\\right) \\left(\\frac{Q_{12} \\left(- x + x_{2}\\right)}{- x_{1} + x_{2}} + \\frac{Q_{22} \\left(x - x_{1}\\right)}{- x_{1} + x_{2}}\\right)$$"
      ],
      "text/plain": [
       "          ⎛Q₁₁⋅(-x + x₂)   Q₂₁⋅(x - x₁)⎞            ⎛Q₁₂⋅(-x + x₂)   Q₂₂⋅(x - \n",
       "(-y + y₂)⋅⎜───────────── + ────────────⎟   (y - y₁)⋅⎜───────────── + ─────────\n",
       "          ⎝   -x₁ + x₂       -x₁ + x₂  ⎠            ⎝   -x₁ + x₂       -x₁ + x\n",
       "──────────────────────────────────────── + ───────────────────────────────────\n",
       "                -y₁ + y₂                                   -y₁ + y₂           \n",
       "\n",
       "x₁)⎞\n",
       "───⎟\n",
       "₂  ⎠\n",
       "────\n",
       "    "
      ]
     },
     "execution_count": 3,
     "metadata": {},
     "output_type": "execute_result"
    }
   ],
   "source": [
    "f = (y2-y)/(y2-y1)*(Q11*(x2-x)/(x2-x1)+Q21*(x-x1)/(x2-x1))+(y-y1)/(y2-y1)*(Q12*(x2-x)/(x2-x1)+Q22*(x-x1)/(x2-x1))\n",
    "f"
   ]
  },
  {
   "cell_type": "code",
   "execution_count": 4,
   "metadata": {
    "collapsed": false
   },
   "outputs": [
    {
     "data": {
      "image/png": "[encoded data removed]",
      "text/latex": [
       "$$\\frac{1}{\\left(x_{1} - x_{2}\\right) \\left(y_{1} - y_{2}\\right)} \\left(\\left(Q_{11} - Q_{21}\\right) \\left(y - y_{2}\\right) - \\left(Q_{12} - Q_{22}\\right) \\left(y - y_{1}\\right)\\right)$$"
      ],
      "text/plain": [
       "(Q₁₁ - Q₂₁)⋅(y - y₂) - (Q₁₂ - Q₂₂)⋅(y - y₁)\n",
       "───────────────────────────────────────────\n",
       "            (x₁ - x₂)⋅(y₁ - y₂)            "
      ]
     },
     "execution_count": 4,
     "metadata": {},
     "output_type": "execute_result"
    }
   ],
   "source": [
    "sympy.simplify(sympy.diff(f,x))"
   ]
  },
  {
   "cell_type": "code",
   "execution_count": 5,
   "metadata": {
    "collapsed": false
   },
   "outputs": [
    {
     "data": {
      "image/png": "[encoded data removed]",
      "text/latex": [
       "$$\\frac{1}{\\left(x_{1} - x_{2}\\right) \\left(y_{1} - y_{2}\\right)} \\left(Q_{11} \\left(x - x_{2}\\right) - Q_{12} \\left(x - x_{2}\\right) - Q_{21} \\left(x - x_{1}\\right) + Q_{22} \\left(x - x_{1}\\right)\\right)$$"
      ],
      "text/plain": [
       "Q₁₁⋅(x - x₂) - Q₁₂⋅(x - x₂) - Q₂₁⋅(x - x₁) + Q₂₂⋅(x - x₁)\n",
       "─────────────────────────────────────────────────────────\n",
       "                   (x₁ - x₂)⋅(y₁ - y₂)                   "
      ]
     },
     "execution_count": 5,
     "metadata": {},
     "output_type": "execute_result"
    }
   ],
   "source": [
    "sympy.simplify(sympy.diff(f,y))"
   ]
  },
  {
   "cell_type": "code",
   "execution_count": 6,
   "metadata": {
    "collapsed": false
   },
   "outputs": [
    {
     "data": {
      "image/png": "[encoded data removed]",
      "text/latex": [
       "$$\\left(- \\frac{\\eta}{2} + \\frac{1}{2}\\right) \\left(\\frac{Q_{11}}{2} \\left(- \\xi + 1\\right) + \\frac{Q_{21}}{2} \\left(\\xi + 1\\right)\\right) + \\left(\\frac{\\eta}{2} + \\frac{1}{2}\\right) \\left(\\frac{Q_{12}}{2} \\left(- \\xi + 1\\right) + \\frac{Q_{22}}{2} \\left(\\xi + 1\\right)\\right)$$"
      ],
      "text/plain": [
       "⎛  η   1⎞ ⎛Q₁₁⋅(-ξ + 1)   Q₂₁⋅(ξ + 1)⎞   ⎛η   1⎞ ⎛Q₁₂⋅(-ξ + 1)   Q₂₂⋅(ξ + 1)⎞\n",
       "⎜- ─ + ─⎟⋅⎜──────────── + ───────────⎟ + ⎜─ + ─⎟⋅⎜──────────── + ───────────⎟\n",
       "⎝  2   2⎠ ⎝     2              2     ⎠   ⎝2   2⎠ ⎝     2              2     ⎠"
      ]
     },
     "execution_count": 6,
     "metadata": {},
     "output_type": "execute_result"
    }
   ],
   "source": [
    "f1 = (1-eta)/2*(Q11*(1-csi)/2+Q21*(csi+1)/2)+(eta+1)/2*(Q12*(1-csi)/2+Q22*(csi+1)/2)\n",
    "f1"
   ]
  },
  {
   "cell_type": "code",
   "execution_count": 7,
   "metadata": {
    "collapsed": false
   },
   "outputs": [
    {
     "data": {
      "image/png": "[encoded data removed]",
      "text/latex": [
       "$$\\frac{1}{4} \\left(Q_{11} - Q_{21}\\right) \\left(\\eta - 1\\right) - \\frac{1}{4} \\left(Q_{12} - Q_{22}\\right) \\left(\\eta + 1\\right)$$"
      ],
      "text/plain": [
       "(Q₁₁ - Q₂₁)⋅(η - 1)   (Q₁₂ - Q₂₂)⋅(η + 1)\n",
       "─────────────────── - ───────────────────\n",
       "         4                     4         "
      ]
     },
     "execution_count": 7,
     "metadata": {},
     "output_type": "execute_result"
    }
   ],
   "source": [
    "sympy.simplify(sympy.diff(f1,csi))"
   ]
  },
  {
   "cell_type": "code",
   "execution_count": 8,
   "metadata": {
    "collapsed": false
   },
   "outputs": [
    {
     "data": {
      "image/png": "[encoded data removed]",
      "text/latex": [
       "$$\\frac{Q_{11}}{4} \\left(\\xi - 1\\right) - \\frac{Q_{12}}{4} \\left(\\xi - 1\\right) - \\frac{Q_{21}}{4} \\left(\\xi + 1\\right) + \\frac{Q_{22}}{4} \\left(\\xi + 1\\right)$$"
      ],
      "text/plain": [
       "Q₁₁⋅(ξ - 1)   Q₁₂⋅(ξ - 1)   Q₂₁⋅(ξ + 1)   Q₂₂⋅(ξ + 1)\n",
       "─────────── - ─────────── - ─────────── + ───────────\n",
       "     4             4             4             4     "
      ]
     },
     "execution_count": 8,
     "metadata": {},
     "output_type": "execute_result"
    }
   ],
   "source": [
    "sympy.simplify(sympy.diff(f1,eta))"
   ]
  },
  {
   "cell_type": "code",
   "execution_count": null,
   "metadata": {
    "collapsed": true
   },
   "outputs": [],
   "source": []
  }
 ],
 "metadata": {
  "kernelspec": {
   "display_name": "Python 2",
   "language": "python",
   "name": "python2"
  },
  "language_info": {
   "codemirror_mode": {
    "name": "ipython",
    "version": 2
   },
   "file_extension": ".py",
   "mimetype": "text/x-python",
   "name": "python",
   "nbconvert_exporter": "python",
   "pygments_lexer": "ipython2",
   "version": "2.7.9"
  }
 },
 "nbformat": 4,
 "nbformat_minor": 0
}
